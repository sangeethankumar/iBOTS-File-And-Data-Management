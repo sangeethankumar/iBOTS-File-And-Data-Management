{
 "cells": [
  {
   "cell_type": "code",
   "execution_count": 57,
   "metadata": {},
   "outputs": [],
   "source": [
    "# %pip install numpy pandas duckdb"
   ]
  },
  {
   "cell_type": "code",
   "execution_count": 58,
   "metadata": {},
   "outputs": [],
   "source": [
    "import numpy\n",
    "import pandas as pd\n",
    "import duckdb"
   ]
  },
  {
   "cell_type": "markdown",
   "metadata": {},
   "source": [
    "## SQL Queries over Data Files With DuckDB\n",
    "\n",
    "SQL, which stands for Structured Query Language, is a standard language used to communicate with databases. It is widely used for managing and manipulating data in databases, and is particularly good for tabular-formatted data. SQL allows you to perform tasks such as retrieving specific data from large databases, updating data, creating new tables or databases, and setting permissions on data access. It is a fundamental tool in many fields that require data management, including research, business, and software development.\n",
    "\n",
    "[DuckDB](https://duckdb.org/) is a database management system that is designed to be easy to use and efficient. It is useful for anyone who needs to work with big datasets and wants to get results quickly, and [it has bindings in a wide variety of languages (including Python and a command-line interface)](https://duckdb.org/docs/api/overview).  Whether you are working on research data or any large dataset, DuckDB can be a helpful tool for managing and analyzing your data. Some other properties:\n",
    "\n",
    "  - DuckDB is an **\"embedded DBMS***, like SQLite, meaning that it it doesn't need a server process to run. \n",
    "  - DudckDB is a **\"column-store\"** DBMS, which makes it very fast at analytical processes like loading up a few large columns at a time.  The tradeoff is that it is slower at writing transactional data, so it's not meant to be used for writing large amounts real-time data at high speeds (for this, SQLite, MySQL, and PostGres would be popular alternatives). \n",
    "  - DuckDB is unique in that it can be used directly on common tabular file types, without necessarily building a special database file and defining all the tables first.  \n",
    "  - DuckDB has integrations with Pandas, Polars, and PyArrow, and can both run queries on those Python variables without making any copies (high-speed!), and can convert its tables directly to those types, making it easy to integrate into most analysis pipelines.\n",
    "  \n",
    "\n",
    "In this notebook, we'll practice writing SQL queries on *JSON*, *CSV*, and *PARQUET* file formats."
   ]
  },
  {
   "cell_type": "markdown",
   "metadata": {},
   "source": [
    "## Loading Data from DataFrames with DuckDB: the SELECT * FROM Statement with Pandas"
   ]
  },
  {
   "cell_type": "markdown",
   "metadata": {},
   "source": [
    "| Code | Description |\n",
    "| :-- | :-- |\n",
    "| `duckdb.sql('SELECT * FROM df')` | Load all the data from the `df` variable into DuckDB |\n",
    "| `duckdb.sql('FROM df')` | A shortcut: The same as \"SELECT * FROM df\" |\n",
    "| `duckdb.sql('SELECT colA, colB FROM df')` | Load only columns \"colA\" and \"colA\" from `df`. |\n",
    "| `duckdb.sql('DESCRIBE SELECT * FROM df')` | Show information about each column in `df`. |\n",
    "| `duckdb.sql('DESCRIBE FROM df')` | Show information about each column in `df`. |\n",
    "| `duckdb.sql('SELECT ColA, ColB FROM df ORDER BY ColA')` | Order the rows by the values in ColA |\n",
    "| `duckdb.sql('SELECT ColA as ColumnA, * FROM df ORDER BY ColA')` | Rename ColA to ColumnA and select the rest of the columns as well. |\n",
    "| `duckdb.sql('FROM df LIMIT 3)` | Show only the first 3 rows (good for quickly previewing data) |\n",
    "| `duckdb.sql().to_df()` | Convert the result back to a Pandas DataFrame. |\n",
    "\n",
    "\n"
   ]
  },
  {
   "cell_type": "markdown",
   "metadata": {},
   "source": [
    "**Exercises**\n",
    "\n",
    "Use the following Dataframes to answer the questions below:"
   ]
  },
  {
   "cell_type": "code",
   "execution_count": 17,
   "metadata": {},
   "outputs": [
    {
     "data": {
      "text/html": [
       "<div>\n",
       "<style scoped>\n",
       "    .dataframe tbody tr th:only-of-type {\n",
       "        vertical-align: middle;\n",
       "    }\n",
       "\n",
       "    .dataframe tbody tr th {\n",
       "        vertical-align: top;\n",
       "    }\n",
       "\n",
       "    .dataframe thead th {\n",
       "        text-align: right;\n",
       "    }\n",
       "</style>\n",
       "<table border=\"1\" class=\"dataframe\">\n",
       "  <thead>\n",
       "    <tr style=\"text-align: right;\">\n",
       "      <th></th>\n",
       "      <th>ExperimentID</th>\n",
       "      <th>AnimalModel</th>\n",
       "      <th>SessionDate</th>\n",
       "      <th>DyeUsed</th>\n",
       "      <th>ImagingTechnique</th>\n",
       "      <th>NumCells</th>\n",
       "    </tr>\n",
       "  </thead>\n",
       "  <tbody>\n",
       "    <tr>\n",
       "      <th>0</th>\n",
       "      <td>301</td>\n",
       "      <td>Mouse</td>\n",
       "      <td>2024-04-01</td>\n",
       "      <td>OGB-1</td>\n",
       "      <td>Two-photon</td>\n",
       "      <td>200</td>\n",
       "    </tr>\n",
       "    <tr>\n",
       "      <th>1</th>\n",
       "      <td>302</td>\n",
       "      <td>Rat</td>\n",
       "      <td>2024-04-05</td>\n",
       "      <td>Fluo-4</td>\n",
       "      <td>Confocal</td>\n",
       "      <td>150</td>\n",
       "    </tr>\n",
       "    <tr>\n",
       "      <th>2</th>\n",
       "      <td>303</td>\n",
       "      <td>Zebrafish</td>\n",
       "      <td>2024-04-09</td>\n",
       "      <td>GCaMP6</td>\n",
       "      <td>Light-sheet</td>\n",
       "      <td>300</td>\n",
       "    </tr>\n",
       "    <tr>\n",
       "      <th>3</th>\n",
       "      <td>304</td>\n",
       "      <td>Mouse</td>\n",
       "      <td>2024-04-13</td>\n",
       "      <td>OGB-1</td>\n",
       "      <td>Two-photon</td>\n",
       "      <td>250</td>\n",
       "    </tr>\n",
       "    <tr>\n",
       "      <th>4</th>\n",
       "      <td>305</td>\n",
       "      <td>Rat</td>\n",
       "      <td>2024-04-17</td>\n",
       "      <td>Fluo-4</td>\n",
       "      <td>Confocal</td>\n",
       "      <td>180</td>\n",
       "    </tr>\n",
       "  </tbody>\n",
       "</table>\n",
       "</div>"
      ],
      "text/plain": [
       "   ExperimentID AnimalModel SessionDate DyeUsed ImagingTechnique  NumCells\n",
       "0           301       Mouse  2024-04-01   OGB-1       Two-photon       200\n",
       "1           302         Rat  2024-04-05  Fluo-4         Confocal       150\n",
       "2           303   Zebrafish  2024-04-09  GCaMP6      Light-sheet       300\n",
       "3           304       Mouse  2024-04-13   OGB-1       Two-photon       250\n",
       "4           305         Rat  2024-04-17  Fluo-4         Confocal       180"
      ]
     },
     "execution_count": 17,
     "metadata": {},
     "output_type": "execute_result"
    }
   ],
   "source": [
    "mri_sessions = pd.DataFrame({\n",
    "    \"SessionID\": [101, 102, 103, 104, 105],\n",
    "    \"PatientID\": [\"P001\", \"P002\", \"P001\", \"P003\", \"P002\"],\n",
    "    \"Date\": [\"2024-02-01\", \"2024-02-03\", \"2024-02-05\", \"2024-02-07\", \"2024-02-09\"],\n",
    "    \"Duration\": [30, 45, 30, 60, 45]\n",
    "})\n",
    "\n",
    "ca2_sessions = pd.DataFrame({\n",
    "    \"ExperimentID\": [301, 302, 303, 304, 305],\n",
    "    \"AnimalModel\": [\"Mouse\", \"Rat\", \"Zebrafish\", \"Mouse\", \"Rat\"],\n",
    "    \"SessionDate\": [\"2024-04-01\", \"2024-04-05\", \"2024-04-09\", \"2024-04-13\", \"2024-04-17\"],\n",
    "    \"DyeUsed\": [\"OGB-1\", \"Fluo-4\", \"GCaMP6\", \"OGB-1\", \"Fluo-4\"],\n",
    "    \"ImagingTechnique\": [\"Two-photon\", \"Confocal\", \"Light-sheet\", \"Two-photon\", \"Confocal\"],\n",
    "    \"NumCells\": [200, 150, 300, 250, 180]\n",
    "})\n",
    "\n",
    "ca2_sessions"
   ]
  },
  {
   "cell_type": "markdown",
   "metadata": {},
   "source": [
    "**Example**: Get all columns of the mri session dataframe:"
   ]
  },
  {
   "cell_type": "code",
   "execution_count": 18,
   "metadata": {},
   "outputs": [
    {
     "data": {
      "text/plain": [
       "┌───────────┬───────────┬────────────┬──────────┐\n",
       "│ SessionID │ PatientID │    Date    │ Duration │\n",
       "│   int64   │  varchar  │  varchar   │  int64   │\n",
       "├───────────┼───────────┼────────────┼──────────┤\n",
       "│       101 │ P001      │ 2024-02-01 │       30 │\n",
       "│       102 │ P002      │ 2024-02-03 │       45 │\n",
       "│       103 │ P001      │ 2024-02-05 │       30 │\n",
       "│       104 │ P003      │ 2024-02-07 │       60 │\n",
       "│       105 │ P002      │ 2024-02-09 │       45 │\n",
       "└───────────┴───────────┴────────────┴──────────┘"
      ]
     },
     "execution_count": 18,
     "metadata": {},
     "output_type": "execute_result"
    }
   ],
   "source": [
    "sql(\"FROM mri_sessions\")"
   ]
  },
  {
   "cell_type": "markdown",
   "metadata": {},
   "source": [
    "Get all columns of the ca2 sessions:"
   ]
  },
  {
   "cell_type": "code",
   "execution_count": null,
   "metadata": {},
   "outputs": [],
   "source": []
  },
  {
   "cell_type": "markdown",
   "metadata": {},
   "source": [
    "Select only the Patient ID and Duration columns from the MRI data"
   ]
  },
  {
   "cell_type": "code",
   "execution_count": null,
   "metadata": {},
   "outputs": [],
   "source": []
  },
  {
   "cell_type": "markdown",
   "metadata": {},
   "source": [
    "Select only the Experiment ID and Animal Model columns from the MRI data"
   ]
  },
  {
   "cell_type": "code",
   "execution_count": null,
   "metadata": {},
   "outputs": [],
   "source": []
  },
  {
   "cell_type": "markdown",
   "metadata": {},
   "source": [
    "Reorder the CA2 data by the number of cells counted, and convert the result back to a Pandas DataFrame:"
   ]
  },
  {
   "cell_type": "code",
   "execution_count": null,
   "metadata": {},
   "outputs": [],
   "source": []
  },
  {
   "cell_type": "markdown",
   "metadata": {},
   "source": [
    "In the Ca2 data, rename the `SessionDate` column to be just \"`Date`\"."
   ]
  },
  {
   "cell_type": "code",
   "execution_count": null,
   "metadata": {},
   "outputs": [],
   "source": []
  },
  {
   "cell_type": "markdown",
   "metadata": {},
   "source": [
    "In the MRI data, load just the `SessionID` (renamed to be just `ID`) and (`PatientID` renamed to be `Patient`) columns. Sort the data by the patient ID."
   ]
  },
  {
   "cell_type": "code",
   "execution_count": null,
   "metadata": {},
   "outputs": [],
   "source": []
  },
  {
   "cell_type": "markdown",
   "metadata": {},
   "source": [
    "## Loading Data with DuckDB: the SELECT * FROM Statement with Files\n",
    "\n",
    "Now, let's build on these queries, using DuckDB's ability to work on \n",
    "\n",
    "| Code | Description |\n",
    "| :-- | :-- |\n",
    "| `duckdb.sql('SELECT * FROM \"path/to/file.json\"')` | [Load the JSON file into a table.](https://duckdb.org/docs/data/json/overview) |\n",
    "| `duckdb.sql('SELECT * FROM \"path/to/file.csv\"')` | [Load the CSV file into a table.](https://duckdb.org/docs/data/csv/overview) |\n",
    "| `duckdb.sql('SELECT * FROM \"path/to/file.parquet\"')` | [Load the PARQUET file into a table.](https://duckdb.org/docs/data/parquet/overview) |\n",
    "| `duckdb.sql('SELECT * FROM \"path/*/file.parquet\"')` | Load **all** the \"file.parquet\" files into a table.|\n",
    "| `duckdb.sql('SELECT * FROM \"**/*.parquet\"')` | Load **all** the parquet files that start with the letter \"f\" into a table, no matter what subfolder they are in. |\n",
    "| `duckdb.sql('SELECT * FROM read_json(\"path/to/file.json\", filename=true)')` | Load the \"file.json\" file into a table using the read_json() function directly. |\n",
    "\n",
    "\n"
   ]
  },
  {
   "cell_type": "markdown",
   "metadata": {},
   "source": [
    "#### Download the Data\n",
    "\n",
    "For the next sections, we'll be exploring some data from a Steinmetz et al NeuroPixel experiment, processed here into JSON files for our tabular analysis, along with some other familiar file types.  Please run the code below to download the data.  It will take 5-10 minutes to download."
   ]
  },
  {
   "cell_type": "code",
   "execution_count": null,
   "metadata": {},
   "outputs": [],
   "source": [
    "%pip install tqdm webdav4 requests fsspec"
   ]
  },
  {
   "cell_type": "code",
   "execution_count": null,
   "metadata": {},
   "outputs": [
    {
     "name": "stderr",
     "output_type": "stream",
     "text": [
      "Downloading Data to data/stenmetz: 100%|██████████| 37/37 [00:00<00:00, 2846.31it/s]\n"
     ]
    }
   ],
   "source": [
    "from tqdm import tqdm\n",
    "from pathlib import Path\n",
    "from webdav4.fsspec import WebdavFileSystem\n",
    "\n",
    "# https://uni-bonn.sciebo.de/s/oZql1bk0p1AvK0w\n",
    "fs = WebdavFileSystem(\"https://uni-bonn.sciebo.de/public.php/webdav\", auth=(\"oZql1bk0p1AvK0w\", \"\"))\n",
    "for name in tqdm(fs.ls(\"/\", detail=False), desc=\"Downloading Data to data/stenmetz\"):\n",
    "    if not Path(f\"data/steinmetz/{name}\").exists():\n",
    "        fs.download(name, f\"data/steinmetz/{name}\", recursive=True)"
   ]
  },
  {
   "cell_type": "markdown",
   "metadata": {},
   "source": [
    "**Exercises**"
   ]
  },
  {
   "cell_type": "code",
   "execution_count": 1,
   "metadata": {},
   "outputs": [],
   "source": [
    "from duckdb import sql"
   ]
  },
  {
   "cell_type": "markdown",
   "metadata": {},
   "source": [
    "**Example**: Use duckdb to read the `session.json` file from the session recorded on 2017-10-11.  What metadata fields were recorded on that day?"
   ]
  },
  {
   "cell_type": "code",
   "execution_count": 3,
   "metadata": {},
   "outputs": [
    {
     "data": {
      "text/plain": [
       "┌──────────────┬─────────┬────────────┬──────────┬─────────┐\n",
       "│ session_date │  mouse  │ stim_onset │ bin_size │   id    │\n",
       "│     date     │ varchar │   double   │  double  │ varchar │\n",
       "├──────────────┼─────────┼────────────┼──────────┼─────────┤\n",
       "│ 2017-10-11   │ Theiler │        0.5 │     0.01 │ ab16    │\n",
       "└──────────────┴─────────┴────────────┴──────────┴─────────┘"
      ]
     },
     "execution_count": 3,
     "metadata": {},
     "output_type": "execute_result"
    }
   ],
   "source": [
    "sql('FROM \"data/steinmetz/*_2017-10-11_*/session.json\"')"
   ]
  },
  {
   "cell_type": "markdown",
   "metadata": {},
   "source": [
    "Use duckdb to read the `session.json` file from the session recorded on 2017-11-02.  What metadata fields were recorded on that day?"
   ]
  },
  {
   "cell_type": "code",
   "execution_count": null,
   "metadata": {},
   "outputs": [],
   "source": []
  },
  {
   "cell_type": "markdown",
   "metadata": {},
   "source": [
    "Use duckdb to read the 'trials.csv' file recorded on 2017-11-02.  What trial variables were recorded for that session?  (Note: if you cannot see all the columns, either add `\"DESCRIBE\"` to the front of the SQL statement, or you can convert the output to a Pandas DataFrame with `.to_df()`)"
   ]
  },
  {
   "cell_type": "code",
   "execution_count": null,
   "metadata": {},
   "outputs": [],
   "source": []
  },
  {
   "cell_type": "markdown",
   "metadata": {},
   "source": [
    "Use duckdb to read **all** of the `session.json` files in the dataset."
   ]
  },
  {
   "cell_type": "code",
   "execution_count": null,
   "metadata": {},
   "outputs": [],
   "source": []
  },
  {
   "cell_type": "markdown",
   "metadata": {},
   "source": [
    "Use DuckDB to read all the `trials.csv` files in the dataset."
   ]
  },
  {
   "cell_type": "code",
   "execution_count": null,
   "metadata": {},
   "outputs": [],
   "source": []
  },
  {
   "cell_type": "markdown",
   "metadata": {},
   "source": [
    "Use DuckDB to get all the cells that were recorded from in the dataset."
   ]
  },
  {
   "cell_type": "code",
   "execution_count": null,
   "metadata": {},
   "outputs": [],
   "source": []
  },
  {
   "cell_type": "markdown",
   "metadata": {},
   "source": [
    "What variables were stored when recording lick behaviors (Tip: Use `DESCRIBE` at the front of the query)?"
   ]
  },
  {
   "cell_type": "code",
   "execution_count": null,
   "metadata": {},
   "outputs": [],
   "source": []
  },
  {
   "cell_type": "markdown",
   "metadata": {},
   "source": [
    "## Getting Unique Values with SELECT DISTINCT\n",
    "\n",
    "Often, we want to summarize data by finding out what unique values there are in a dataset, in order to plan out an analysis.  In SQL, the [`SELECT DISTINCT`](https://duckdb.org/docs/sql/query_syntax/select) statement helps with this, and can even show distinct *combinations* of column values. \n",
    "\n",
    "\n",
    "| Code | Description |\n",
    "| :-- | :-- |\n",
    "| `SELECT * FROM my_table` |  Select all the columns. |\n",
    "| `SELECT colA, colB FROM my_table` | Select just colA and colB |\n",
    "| `SELECT DISTINCT colA FROM my_table` | Show just the unique values of colA |\n",
    "| `SELECT DISTINCT colA, colB FROM my_table` | Show just the unique combinations of values between colA and colB |\n",
    "| `SELECT DISTINCT colA, colB FROM my_table ORDER BY colA` | ...and order by colA |\n",
    "| `SELECT DISTINCT colA, colB FROM my_table ORDER BY colA, colB` | ...and order by colA, then colB |\n",
    "| `SELECT DISTINCT colA, colB FROM my_table ORDER BY *` | Order the data by whatever columns are selected, in the order they appear in the table. |"
   ]
  },
  {
   "cell_type": "markdown",
   "metadata": {},
   "source": [
    "**Exercises**"
   ]
  },
  {
   "cell_type": "markdown",
   "metadata": {},
   "source": [
    "**Example**: What mice were in the study?  Show just the unique values. "
   ]
  },
  {
   "cell_type": "code",
   "execution_count": 41,
   "metadata": {},
   "outputs": [
    {
     "data": {
      "text/plain": [
       "┌───────────┐\n",
       "│   mouse   │\n",
       "│  varchar  │\n",
       "├───────────┤\n",
       "│ Lederberg │\n",
       "│ Richards  │\n",
       "│ Tatum     │\n",
       "│ NULL      │\n",
       "│ Moniz     │\n",
       "│ Hench     │\n",
       "│ Muller    │\n",
       "│ Forssmann │\n",
       "│ Theiler   │\n",
       "│ Radnitz   │\n",
       "├───────────┤\n",
       "│  10 rows  │\n",
       "└───────────┘"
      ]
     },
     "execution_count": 41,
     "metadata": {},
     "output_type": "execute_result"
    }
   ],
   "source": [
    "sql(\n",
    "\"\"\"\n",
    "SELECT DISTINCT \n",
    "    mouse,\n",
    "FROM \n",
    "    \"data/steinmetz/*/session.json\"\n",
    "\"\"\")"
   ]
  },
  {
   "cell_type": "markdown",
   "metadata": {},
   "source": [
    "What unique (\"distinct\") contrast levels of the left stimulus were there in this experiment?  To make it easier to read, order the rows in the resulting table."
   ]
  },
  {
   "cell_type": "code",
   "execution_count": null,
   "metadata": {},
   "outputs": [],
   "source": []
  },
  {
   "cell_type": "markdown",
   "metadata": {},
   "source": [
    "What unique (\"distinct\") combinations of contrast levels between the left and right stimulus were there in this experiment?  To make it easier to read, order the rows in the resulting table."
   ]
  },
  {
   "cell_type": "code",
   "execution_count": null,
   "metadata": {},
   "outputs": [],
   "source": []
  },
  {
   "cell_type": "markdown",
   "metadata": {},
   "source": [
    "What were the different stimulus onset time settings used this experiment?"
   ]
  },
  {
   "cell_type": "code",
   "execution_count": null,
   "metadata": {},
   "outputs": [],
   "source": []
  },
  {
   "cell_type": "markdown",
   "metadata": {},
   "source": [
    "Which general areas of the  brain (let's use \"brain_groups\" here) were the cells in this study recorded from?"
   ]
  },
  {
   "cell_type": "code",
   "execution_count": null,
   "metadata": {},
   "outputs": [],
   "source": []
  },
  {
   "cell_type": "markdown",
   "metadata": {},
   "source": [
    "Which brain groups were associated with which brain areas?"
   ]
  },
  {
   "cell_type": "code",
   "execution_count": null,
   "metadata": {},
   "outputs": [],
   "source": []
  },
  {
   "cell_type": "markdown",
   "metadata": {},
   "source": [
    "## Filtering Data with WHERE\n",
    "\n",
    "Let's Filter the data! The [WHERE](https://duckdb.org/docs/sql/query_syntax/where) clause in SQL helps to only load up the rows that meet a specified condition:\n",
    "\n",
    "| Code | Description |\n",
    "| :-- | :-- |\n",
    "| `FROM my_table WHERE colA > 5` | Only take the rows where colA is greater than 5. |\n",
    "| `FROM my_table WHERE colA = 'adult'` |  Only take the rows where colA is \"adult\". |\n",
    "| `FROM my_table WHERE colA IS NOT NULL` | Only take the non-missing rows of colA |\n",
    "| `FROM my_table WHERE colA LIKE 'C%'` | Only take the rows of ColA where the text starts with a \"C\". |\n",
    "\n",
    "More filtering experessions can be found at these links (won't be used in these exercises; just for reference):\n",
    "  - Logical Operators: https://duckdb.org/docs/sql/expressions/logical_operators\n",
    "  - More Comparisons: https://duckdb.org/docs/sql/expressions/comparison_operators\n",
    "  - More: https://duckdb.org/docs/sql/expressions/in\n",
    "  - Text processing functions: https://duckdb.org/docs/sql/functions/char\n"
   ]
  },
  {
   "cell_type": "markdown",
   "metadata": {},
   "source": [
    "**Exercises**"
   ]
  },
  {
   "cell_type": "markdown",
   "metadata": {},
   "source": [
    "**Example**: Which brain areas of the brain group \"thalamus\" did we record cells from in this experiment?  (Tip: use single quotes `'` to reference text.)"
   ]
  },
  {
   "cell_type": "code",
   "execution_count": 59,
   "metadata": {},
   "outputs": [
    {
     "data": {
      "text/plain": [
       "┌──────────────┬────────────┐\n",
       "│ brain_groups │ brain_area │\n",
       "│   varchar    │  varchar   │\n",
       "├──────────────┼────────────┤\n",
       "│ thalamus     │ MG         │\n",
       "│ thalamus     │ VAL        │\n",
       "│ thalamus     │ RT         │\n",
       "│ thalamus     │ PT         │\n",
       "│ thalamus     │ SPF        │\n",
       "│ thalamus     │ LD         │\n",
       "│ thalamus     │ LP         │\n",
       "│ thalamus     │ LH         │\n",
       "│ thalamus     │ MD         │\n",
       "│ thalamus     │ TH         │\n",
       "│ thalamus     │ PO         │\n",
       "│ thalamus     │ VPM        │\n",
       "│ thalamus     │ CL         │\n",
       "│ thalamus     │ LGd        │\n",
       "│ thalamus     │ VPL        │\n",
       "│ thalamus     │ POL        │\n",
       "├──────────────┴────────────┤\n",
       "│ 16 rows         2 columns │\n",
       "└───────────────────────────┘"
      ]
     },
     "execution_count": 59,
     "metadata": {},
     "output_type": "execute_result"
    }
   ],
   "source": [
    "sql(\n",
    "\"\"\"\n",
    "SELECT DISTINCT\n",
    "    brain_groups,\n",
    "    brain_area\n",
    "FROM \n",
    "    'data/steinmetz/*/cells.parquet'\n",
    "WHERE brain_groups = 'thalamus'\n",
    "ORDER BY brain_groups\n",
    "\"\"\")"
   ]
  },
  {
   "cell_type": "markdown",
   "metadata": {},
   "source": [
    "Which brain areas recorded in this experiment start with the capital letter `V`?"
   ]
  },
  {
   "cell_type": "code",
   "execution_count": null,
   "metadata": {},
   "outputs": [],
   "source": []
  },
  {
   "cell_type": "markdown",
   "metadata": {},
   "source": [
    "Which brain groups recorded in this experiment end with the word `\"cortex\"`?"
   ]
  },
  {
   "cell_type": "code",
   "execution_count": null,
   "metadata": {},
   "outputs": [],
   "source": []
  },
  {
   "cell_type": "markdown",
   "metadata": {},
   "source": [
    "Which sessions had cell recordings in the visual cortex?"
   ]
  },
  {
   "cell_type": "code",
   "execution_count": null,
   "metadata": {},
   "outputs": [],
   "source": []
  },
  {
   "cell_type": "markdown",
   "metadata": {},
   "source": [
    "Which sessions had recordings in the hippocampus?"
   ]
  },
  {
   "cell_type": "code",
   "execution_count": null,
   "metadata": {},
   "outputs": [],
   "source": []
  },
  {
   "cell_type": "markdown",
   "metadata": {},
   "source": [
    "Select all the \"active\" trials (when the mouse was expected to respond), where they actually responded with a wheel turn (response type was -1 or 1, not 0)."
   ]
  },
  {
   "cell_type": "code",
   "execution_count": null,
   "metadata": {},
   "outputs": [],
   "source": []
  },
  {
   "cell_type": "markdown",
   "metadata": {},
   "source": [
    "## (Demo) Plotting Data: Query, then Plot!\n",
    "\n",
    "Most of the time, you don't need any complex queries;  in a language like Python is that you get to use all the other Python tools!"
   ]
  },
  {
   "cell_type": "markdown",
   "metadata": {},
   "source": [
    "**Example**: Making a Statistical Plot of Trial Performance"
   ]
  },
  {
   "cell_type": "code",
   "execution_count": 1,
   "metadata": {},
   "outputs": [],
   "source": [
    "# %pip install seaborn"
   ]
  },
  {
   "cell_type": "code",
   "execution_count": null,
   "metadata": {},
   "outputs": [],
   "source": [
    "import seaborn as sns"
   ]
  },
  {
   "cell_type": "code",
   "execution_count": null,
   "metadata": {},
   "outputs": [],
   "source": [
    "df = duckdb.sql('FROM \"**/trials.csv\" WHERE active_trials = true AND response_type <> 0').to_df()\n",
    "sns.catplot(data=df, x='contrast_left', hue='contrast_right', y='response_type', kind='point');"
   ]
  },
  {
   "cell_type": "markdown",
   "metadata": {},
   "source": [
    "**Example**: Rendering a 3D point cloud of cell positions in the Allen Brain Atlas. "
   ]
  },
  {
   "cell_type": "code",
   "execution_count": 3,
   "metadata": {},
   "outputs": [],
   "source": [
    "# %pip install plotly nbformat bg-atlasapi"
   ]
  },
  {
   "cell_type": "code",
   "execution_count": 2,
   "metadata": {},
   "outputs": [
    {
     "ename": "ModuleNotFoundError",
     "evalue": "No module named 'plotly'",
     "output_type": "error",
     "traceback": [
      "\u001b[1;31m---------------------------------------------------------------------------\u001b[0m",
      "\u001b[1;31mModuleNotFoundError\u001b[0m                       Traceback (most recent call last)",
      "Cell \u001b[1;32mIn[2], line 1\u001b[0m\n\u001b[1;32m----> 1\u001b[0m \u001b[38;5;28;01mimport\u001b[39;00m \u001b[38;5;21;01mplotly\u001b[39;00m\u001b[38;5;21;01m.\u001b[39;00m\u001b[38;5;21;01mexpress\u001b[39;00m \u001b[38;5;28;01mas\u001b[39;00m \u001b[38;5;21;01mpx\u001b[39;00m\n\u001b[0;32m      2\u001b[0m \u001b[38;5;28;01mimport\u001b[39;00m \u001b[38;5;21;01mplotly\u001b[39;00m\u001b[38;5;21;01m.\u001b[39;00m\u001b[38;5;21;01mgraph_objects\u001b[39;00m \u001b[38;5;28;01mas\u001b[39;00m \u001b[38;5;21;01mgo\u001b[39;00m\n\u001b[0;32m      3\u001b[0m \u001b[38;5;28;01mfrom\u001b[39;00m \u001b[38;5;21;01mbg_atlasapi\u001b[39;00m\u001b[38;5;21;01m.\u001b[39;00m\u001b[38;5;21;01mbg_atlas\u001b[39;00m \u001b[38;5;28;01mimport\u001b[39;00m BrainGlobeAtlas\n",
      "\u001b[1;31mModuleNotFoundError\u001b[0m: No module named 'plotly'"
     ]
    }
   ],
   "source": [
    "import plotly.express as px\n",
    "import plotly.graph_objects as go\n",
    "from bg_atlasapi.bg_atlas import BrainGlobeAtlas\n",
    "import duckdb"
   ]
  },
  {
   "cell_type": "code",
   "execution_count": null,
   "metadata": {},
   "outputs": [],
   "source": [
    "df = duckdb.sql(\"FROM '**/cells.parquet'\").to_df()\n",
    "atlas_mesh = BrainGlobeAtlas(\"allen_mouse_25um\").mesh_from_structure('root')\n",
    "\n",
    "\n",
    "fig1 = px.scatter_3d(x=atlas_mesh.points[:, 0], y=atlas_mesh.points[:, 1], z=atlas_mesh.points[:, 2], opacity=0.1).update_traces(marker=dict(size=.6))\n",
    "fig2 = px.scatter_3d(x=df.ccf_ap, y=df.ccf_dv, z=df.ccf_lr, color=df.brain_groups, width=700, title=\"Cell CCF Coordinates\").update_traces(marker=dict(size=2))\n",
    "go.Figure(data=fig1.data + fig2.data, layout=fig1.layout).update_layout(scene=dict(xaxis={'visible': False}, yaxis={'visible': False}, zaxis={'visible': False}), width=700, scene_camera=dict(eye=dict(x=.75, y=.75, z=.75)))\n"
   ]
  },
  {
   "cell_type": "code",
   "execution_count": null,
   "metadata": {},
   "outputs": [],
   "source": []
  }
 ],
 "metadata": {
  "kernelspec": {
   "display_name": "duckdb",
   "language": "python",
   "name": "python3"
  },
  "language_info": {
   "codemirror_mode": {
    "name": "ipython",
    "version": 3
   },
   "file_extension": ".py",
   "mimetype": "text/x-python",
   "name": "python",
   "nbconvert_exporter": "python",
   "pygments_lexer": "ipython3",
   "version": "3.11.7"
  }
 },
 "nbformat": 4,
 "nbformat_minor": 2
}
