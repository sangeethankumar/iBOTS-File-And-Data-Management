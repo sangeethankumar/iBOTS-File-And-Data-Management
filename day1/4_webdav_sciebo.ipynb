{
 "cells": [
  {
   "cell_type": "markdown",
   "metadata": {},
   "source": [
    "# Sciebo/NextCloud/Owncloud Folders as a Remote Filesystem\n",
    "\n",
    "Cloud storage services like Sciebo, NextCloud, and Owncloud offer convenient solutions for storing and accessing large datasets, and they are offered free of charge to all researchers in the NRW region! This section focuses on integrating these services into your data analysis pipeline, demonstrating how to interact with these cloud storage platforms programmatically to manage your neuroscience research data efficiently.\n",
    "\n",
    "These systems include a \"WebDAV\" interface for interacting with them as a remote filesystem. In this section, we'll use a `WebdavFileSystem` fsspec class to connect!\n",
    "\n",
    "If you haven't made a Sciebo account yet, here are some links:\n",
    "\n",
    "  - https://uni-koeln.sciebo.de/login\n",
    "\n",
    "  - https://uni-bonn.sciebo.de/login"
   ]
  },
  {
   "cell_type": "markdown",
   "metadata": {},
   "source": [
    "## Read-Only, Public Datasets\n",
    "\n",
    "Accessing public datasets is a common requirement in neuroscience research. In Sciebo, you can make one instantly by creating a \"Public Link\" to a folder. \n",
    "\n",
    "  - **URL**: `https://uni-bonn.sciebo.de/public.php/webdav`, \n",
    "  - **Username**: The code at the end of the public link.\n",
    "  - **Passsword**: Whatever password you made for the link, or an empty string if no password.\n",
    "\n",
    "```python\n",
    "fs = WebdavFileSystem(url, auth=(username, password))\n",
    "```\n",
    "\n",
    "This section provides insights into connecting with read-only, public datasets using WebDAV-based file systems. \n",
    "\n"
   ]
  },
  {
   "cell_type": "markdown",
   "metadata": {},
   "source": [
    "**Exercises**"
   ]
  },
  {
   "cell_type": "code",
   "execution_count": 1,
   "metadata": {},
   "outputs": [
    {
     "name": "stdout",
     "output_type": "stream",
     "text": [
      "Collecting webdav4\n",
      "  Downloading webdav4-0.9.8-py3-none-any.whl.metadata (4.4 kB)\n",
      "Collecting httpx<1.0.0,>=0.20 (from webdav4)\n",
      "  Downloading httpx-0.27.0-py3-none-any.whl.metadata (7.2 kB)\n",
      "Requirement already satisfied: python-dateutil>=2.8.1 in c:\\users\\sangeetha\\anaconda3\\envs\\dwshop\\lib\\site-packages (from webdav4) (2.8.2)\n",
      "Collecting anyio (from httpx<1.0.0,>=0.20->webdav4)\n",
      "  Using cached anyio-4.3.0-py3-none-any.whl.metadata (4.6 kB)\n",
      "Requirement already satisfied: certifi in c:\\users\\sangeetha\\anaconda3\\envs\\dwshop\\lib\\site-packages (from httpx<1.0.0,>=0.20->webdav4) (2024.2.2)\n",
      "Collecting httpcore==1.* (from httpx<1.0.0,>=0.20->webdav4)\n",
      "  Downloading httpcore-1.0.4-py3-none-any.whl.metadata (20 kB)\n",
      "Requirement already satisfied: idna in c:\\users\\sangeetha\\anaconda3\\envs\\dwshop\\lib\\site-packages (from httpx<1.0.0,>=0.20->webdav4) (3.6)\n",
      "Collecting sniffio (from httpx<1.0.0,>=0.20->webdav4)\n",
      "  Downloading sniffio-1.3.0-py3-none-any.whl.metadata (3.6 kB)\n",
      "Collecting h11<0.15,>=0.13 (from httpcore==1.*->httpx<1.0.0,>=0.20->webdav4)\n",
      "  Downloading h11-0.14.0-py3-none-any.whl.metadata (8.2 kB)\n",
      "Requirement already satisfied: six>=1.5 in c:\\users\\sangeetha\\anaconda3\\envs\\dwshop\\lib\\site-packages (from python-dateutil>=2.8.1->webdav4) (1.16.0)\n",
      "Downloading webdav4-0.9.8-py3-none-any.whl (36 kB)\n",
      "Downloading httpx-0.27.0-py3-none-any.whl (75 kB)\n",
      "   ---------------------------------------- 0.0/75.6 kB ? eta -:--:--\n",
      "   ---------------------------------------- 75.6/75.6 kB 4.4 MB/s eta 0:00:00\n",
      "Downloading httpcore-1.0.4-py3-none-any.whl (77 kB)\n",
      "   ---------------------------------------- 0.0/77.8 kB ? eta -:--:--\n",
      "   ---------------------------------------- 77.8/77.8 kB ? eta 0:00:00\n",
      "Using cached anyio-4.3.0-py3-none-any.whl (85 kB)\n",
      "Using cached sniffio-1.3.0-py3-none-any.whl (10 kB)\n",
      "Using cached h11-0.14.0-py3-none-any.whl (58 kB)\n",
      "Installing collected packages: sniffio, h11, httpcore, anyio, httpx, webdav4\n",
      "Successfully installed anyio-4.3.0 h11-0.14.0 httpcore-1.0.4 httpx-0.27.0 sniffio-1.3.0 webdav4-0.9.8\n",
      "Note: you may need to restart the kernel to use updated packages.\n"
     ]
    }
   ],
   "source": [
    "%pip install webdav4"
   ]
  },
  {
   "cell_type": "code",
   "execution_count": 2,
   "metadata": {},
   "outputs": [],
   "source": [
    "from webdav4.fsspec import WebdavFileSystem"
   ]
  },
  {
   "cell_type": "markdown",
   "metadata": {},
   "source": [
    "List all the files in the root directory of this public Sciebo Link: https://uni-bonn.sciebo.de/s/f81JqGZmEHXxMnB"
   ]
  },
  {
   "cell_type": "code",
   "execution_count": 15,
   "metadata": {},
   "outputs": [
    {
     "data": {
      "text/plain": [
       "['README.md', 'data']"
      ]
     },
     "execution_count": 15,
     "metadata": {},
     "output_type": "execute_result"
    }
   ],
   "source": [
    "pub_url = \"https://uni-bonn.sciebo.de/public.php/webdav\"\n",
    "fs = WebdavFileSystem(pub_url, auth=(\"f81JqGZmEHXxMnB\", \"\"))\n",
    "fs.ls(\"/\", detail=False)"
   ]
  },
  {
   "cell_type": "markdown",
   "metadata": {},
   "source": [
    "What files are in the \"data/final\" folder?"
   ]
  },
  {
   "cell_type": "code",
   "execution_count": 16,
   "metadata": {},
   "outputs": [
    {
     "data": {
      "text/plain": [
       "['data/final/steinmetz_all.csv',\n",
       " 'data/final/steinmetz_all.parquet',\n",
       " 'data/final/steinmetz_summer2017.csv',\n",
       " 'data/final/steinmetz_winter2016.csv',\n",
       " 'data/final/steinmetz_winter2017.csv']"
      ]
     },
     "execution_count": 16,
     "metadata": {},
     "output_type": "execute_result"
    }
   ],
   "source": [
    "fs.glob(\"data/final/*\")"
   ]
  },
  {
   "cell_type": "markdown",
   "metadata": {},
   "source": [
    "How many files are in the \"data/processed\" folder?"
   ]
  },
  {
   "cell_type": "code",
   "execution_count": 19,
   "metadata": {},
   "outputs": [
    {
     "data": {
      "text/plain": [
       "40"
      ]
     },
     "execution_count": 19,
     "metadata": {},
     "output_type": "execute_result"
    }
   ],
   "source": [
    "len(fs.glob(\"data/processed/*\"))"
   ]
  },
  {
   "cell_type": "markdown",
   "metadata": {},
   "source": [
    "## Remote Filesystems that Require Authentication: Basic Secret Handling\n",
    "\n",
    "It's important not to put the text of the username and password inside your code files; it makes it too easy for others to find (including robots), and makes it more difficult to share code with others.  Instead, we should put secrets it in a seperate file that we won't share with others; something that our code file can use.\n",
    "\n",
    "Here, we'll try out a standard approach that works in a wide variety of situations: make a `.env` (\"dot env\") file, which has all the environment variables we want to use.  Because it has a special extension, this file is easy to tell git to ignore, and many tools know how to work with it automatically.\n",
    "\n",
    "\n",
    "| Code | Description\n",
    "| :--  | :-- |\n",
    "| `dotenv.load_dotenv(override=True)` | Put variables in a `.env` file into the operating system's environment variables |\n",
    "| `os.environ[\"MyVar\"]` | Get an environment variable |"
   ]
  },
  {
   "cell_type": "code",
   "execution_count": 20,
   "metadata": {},
   "outputs": [
    {
     "name": "stdout",
     "output_type": "stream",
     "text": [
      "Collecting python-dotenv\n",
      "  Downloading python_dotenv-1.0.1-py3-none-any.whl.metadata (23 kB)\n",
      "Downloading python_dotenv-1.0.1-py3-none-any.whl (19 kB)\n",
      "Installing collected packages: python-dotenv\n",
      "Successfully installed python-dotenv-1.0.1\n",
      "Note: you may need to restart the kernel to use updated packages.\n"
     ]
    }
   ],
   "source": [
    "%pip install python-dotenv"
   ]
  },
  {
   "cell_type": "markdown",
   "metadata": {},
   "source": [
    "**Exercises**\n",
    "\n",
    "\n",
    "**Create a Shared Writeable Folder**\n",
    "\n",
    "Pick one person in your group to create a shared folder for the group to upload data to.  That person should: \n",
    "  - Using Sciebo in the web browser, create a new, empty folder in their Sciebo account.\n",
    "  - Create a new text file in that folder called \"README.txt\", and put a special message inside the file.\n",
    "  - **For each** team member to share the code with:\n",
    "    - Share the folder by creating a \"public link\", giving the \n",
    "        - name of the team member as the link's name, \n",
    "        - permission to download/view/upload/edit, \n",
    "        - a password, \n",
    "        - and set the link to expire in the near-ish future.\n",
    "    - Using the Zoom Chat, give each person the share link and the password.\n",
    "\n"
   ]
  },
  {
   "cell_type": "markdown",
   "metadata": {},
   "source": [
    "\n",
    "**Put the Authentication Data into a .env file** \n",
    "\n",
    "Make a file called `.env` and write the username and password into the file as variables like so:\n",
    "\n",
    "```dotenv\n",
    "URL=https://uni-bonn.sciebo.de/public.php/webdav  # or whatever the correct address is.\n",
    "USERNAME=f81JqGZmEHLxMnB                          # the last part of the share link (e.g. from https://uni-bonn.sciebo.de/s/f81JqGZmEHLxMnB)\n",
    "PASSWORD=mypassword                               # the password\n",
    "```\n"
   ]
  },
  {
   "cell_type": "markdown",
   "metadata": {},
   "source": [
    "**Access your Authentication Data**\n",
    "\n",
    "Use `load_dotenv()` and `os.environ` to extract the authentication into Python:"
   ]
  },
  {
   "cell_type": "code",
   "execution_count": 21,
   "metadata": {},
   "outputs": [
    {
     "name": "stdout",
     "output_type": "stream",
     "text": [
      "Requirement already satisfied: python-dotenv in c:\\users\\sangeetha\\anaconda3\\envs\\dwshop\\lib\\site-packages (1.0.1)\n",
      "Note: you may need to restart the kernel to use updated packages.\n"
     ]
    }
   ],
   "source": [
    "%pip install python-dotenv"
   ]
  },
  {
   "cell_type": "code",
   "execution_count": 22,
   "metadata": {},
   "outputs": [],
   "source": [
    "# \"https://uni-koeln.sciebo.de/s/yFpqxzn6h0GsmZR\""
   ]
  },
  {
   "cell_type": "code",
   "execution_count": 26,
   "metadata": {},
   "outputs": [
    {
     "data": {
      "text/plain": [
       "('https://uni-koeln.sciebo.de/public.php/webdav', 'yFpqxzn6h0GsmZR', 'abc')"
      ]
     },
     "execution_count": 26,
     "metadata": {},
     "output_type": "execute_result"
    }
   ],
   "source": [
    "import dotenv\n",
    "import os\n",
    "dotenv.load_dotenv(override=True)\n",
    "os.environ[\"URL\"], os.environ['USERNAME'], os.environ['PASSWORD']"
   ]
  },
  {
   "cell_type": "markdown",
   "metadata": {},
   "source": [
    "**Use Your Authentication Data**"
   ]
  },
  {
   "cell_type": "markdown",
   "metadata": {},
   "source": [
    "Use the `env` variables to connect to the shared remote folder, and list all the files in that folder."
   ]
  },
  {
   "cell_type": "code",
   "execution_count": 1,
   "metadata": {},
   "outputs": [
    {
     "ename": "KeyError",
     "evalue": "'URL1'",
     "output_type": "error",
     "traceback": [
      "\u001b[1;31m---------------------------------------------------------------------------\u001b[0m",
      "\u001b[1;31mKeyError\u001b[0m                                  Traceback (most recent call last)",
      "Cell \u001b[1;32mIn[1], line 3\u001b[0m\n\u001b[0;32m      1\u001b[0m \u001b[38;5;66;03m# dotenv.load_dotenv(override=True)\u001b[39;00m\n\u001b[0;32m      2\u001b[0m \u001b[38;5;28;01mimport\u001b[39;00m \u001b[38;5;21;01mos\u001b[39;00m\n\u001b[1;32m----> 3\u001b[0m \u001b[43mos\u001b[49m\u001b[38;5;241;43m.\u001b[39;49m\u001b[43menviron\u001b[49m\u001b[43m[\u001b[49m\u001b[38;5;124;43m'\u001b[39;49m\u001b[38;5;124;43mURL1\u001b[39;49m\u001b[38;5;124;43m'\u001b[39;49m\u001b[43m]\u001b[49m\n",
      "File \u001b[1;32m<frozen os>:679\u001b[0m, in \u001b[0;36m__getitem__\u001b[1;34m(self, key)\u001b[0m\n",
      "\u001b[1;31mKeyError\u001b[0m: 'URL1'"
     ]
    }
   ],
   "source": [
    "# dotenv.load_dotenv(override=True)\n",
    "import os\n",
    "os.environ['URL1']"
   ]
  },
  {
   "cell_type": "code",
   "execution_count": 3,
   "metadata": {},
   "outputs": [
    {
     "data": {
      "text/plain": [
       "'https://uni-koeln.sciebo.de/public.php/webdav'"
      ]
     },
     "execution_count": 3,
     "metadata": {},
     "output_type": "execute_result"
    }
   ],
   "source": [
    "import dotenv\n",
    "import os\n",
    "dotenv.load_dotenv(override=True)\n",
    "os.environ['URL1']"
   ]
  },
  {
   "cell_type": "code",
   "execution_count": 6,
   "metadata": {},
   "outputs": [
    {
     "name": "stdout",
     "output_type": "stream",
     "text": [
      "\u001b[1;31mSignature:\u001b[0m\n",
      "\u001b[0mdotenv\u001b[0m\u001b[1;33m.\u001b[0m\u001b[0mload_dotenv\u001b[0m\u001b[1;33m(\u001b[0m\u001b[1;33m\n",
      "\u001b[0m    \u001b[0mdotenv_path\u001b[0m\u001b[1;33m:\u001b[0m \u001b[0mUnion\u001b[0m\u001b[1;33m[\u001b[0m\u001b[0mstr\u001b[0m\u001b[1;33m,\u001b[0m \u001b[0mForwardRef\u001b[0m\u001b[1;33m(\u001b[0m\u001b[1;34m'os.PathLike[str]'\u001b[0m\u001b[1;33m)\u001b[0m\u001b[1;33m,\u001b[0m \u001b[0mNoneType\u001b[0m\u001b[1;33m]\u001b[0m \u001b[1;33m=\u001b[0m \u001b[1;32mNone\u001b[0m\u001b[1;33m,\u001b[0m\u001b[1;33m\n",
      "\u001b[0m    \u001b[0mstream\u001b[0m\u001b[1;33m:\u001b[0m \u001b[0mOptional\u001b[0m\u001b[1;33m[\u001b[0m\u001b[0mIO\u001b[0m\u001b[1;33m[\u001b[0m\u001b[0mstr\u001b[0m\u001b[1;33m]\u001b[0m\u001b[1;33m]\u001b[0m \u001b[1;33m=\u001b[0m \u001b[1;32mNone\u001b[0m\u001b[1;33m,\u001b[0m\u001b[1;33m\n",
      "\u001b[0m    \u001b[0mverbose\u001b[0m\u001b[1;33m:\u001b[0m \u001b[0mbool\u001b[0m \u001b[1;33m=\u001b[0m \u001b[1;32mFalse\u001b[0m\u001b[1;33m,\u001b[0m\u001b[1;33m\n",
      "\u001b[0m    \u001b[0moverride\u001b[0m\u001b[1;33m:\u001b[0m \u001b[0mbool\u001b[0m \u001b[1;33m=\u001b[0m \u001b[1;32mFalse\u001b[0m\u001b[1;33m,\u001b[0m\u001b[1;33m\n",
      "\u001b[0m    \u001b[0minterpolate\u001b[0m\u001b[1;33m:\u001b[0m \u001b[0mbool\u001b[0m \u001b[1;33m=\u001b[0m \u001b[1;32mTrue\u001b[0m\u001b[1;33m,\u001b[0m\u001b[1;33m\n",
      "\u001b[0m    \u001b[0mencoding\u001b[0m\u001b[1;33m:\u001b[0m \u001b[0mOptional\u001b[0m\u001b[1;33m[\u001b[0m\u001b[0mstr\u001b[0m\u001b[1;33m]\u001b[0m \u001b[1;33m=\u001b[0m \u001b[1;34m'utf-8'\u001b[0m\u001b[1;33m,\u001b[0m\u001b[1;33m\n",
      "\u001b[0m\u001b[1;33m)\u001b[0m \u001b[1;33m->\u001b[0m \u001b[0mbool\u001b[0m\u001b[1;33m\u001b[0m\u001b[1;33m\u001b[0m\u001b[0m\n",
      "\u001b[1;31mDocstring:\u001b[0m\n",
      "Parse a .env file and then load all the variables found as environment variables.\n",
      "\n",
      "Parameters:\n",
      "    dotenv_path: Absolute or relative path to .env file.\n",
      "    stream: Text stream (such as `io.StringIO`) with .env content, used if\n",
      "        `dotenv_path` is `None`.\n",
      "    verbose: Whether to output a warning the .env file is missing.\n",
      "    override: Whether to override the system environment variables with the variables\n",
      "        from the `.env` file.\n",
      "    encoding: Encoding to be used to read the file.\n",
      "Returns:\n",
      "    Bool: True if at least one environment variable is set else False\n",
      "\n",
      "If both `dotenv_path` and `stream` are `None`, `find_dotenv()` is used to find the\n",
      ".env file.\n",
      "\u001b[1;31mFile:\u001b[0m      c:\\users\\sangeetha\\anaconda3\\envs\\dwshop\\lib\\site-packages\\dotenv\\main.py\n",
      "\u001b[1;31mType:\u001b[0m      function"
     ]
    }
   ],
   "source": [
    "dotenv.load_dotenv?"
   ]
  },
  {
   "cell_type": "code",
   "execution_count": 5,
   "metadata": {},
   "outputs": [
    {
     "data": {
      "text/plain": [
       "True"
      ]
     },
     "execution_count": 5,
     "metadata": {},
     "output_type": "execute_result"
    }
   ],
   "source": [
    "xx = dotenv.load_dotenv(override=True)\n",
    "xx"
   ]
  },
  {
   "cell_type": "code",
   "execution_count": 27,
   "metadata": {},
   "outputs": [
    {
     "data": {
      "text/plain": [
       "['README.txt']"
      ]
     },
     "execution_count": 27,
     "metadata": {},
     "output_type": "execute_result"
    }
   ],
   "source": [
    "pub_url = os.environ['URL1']\n",
    "fs = WebdavFileSystem(pub_url, auth=(os.environ['USERNAME1'], os.environ['PASSWORD1']))\n",
    "fs.ls(\"/\", detail=False)"
   ]
  },
  {
   "cell_type": "code",
   "execution_count": 1,
   "metadata": {},
   "outputs": [
    {
     "ename": "KeyError",
     "evalue": "'URL1'",
     "output_type": "error",
     "traceback": [
      "\u001b[1;31m---------------------------------------------------------------------------\u001b[0m",
      "\u001b[1;31mKeyError\u001b[0m                                  Traceback (most recent call last)",
      "Cell \u001b[1;32mIn[1], line 2\u001b[0m\n\u001b[0;32m      1\u001b[0m \u001b[38;5;28;01mimport\u001b[39;00m \u001b[38;5;21;01mos\u001b[39;00m\n\u001b[1;32m----> 2\u001b[0m \u001b[43mos\u001b[49m\u001b[38;5;241;43m.\u001b[39;49m\u001b[43menviron\u001b[49m\u001b[43m[\u001b[49m\u001b[38;5;124;43m'\u001b[39;49m\u001b[38;5;124;43mURL1\u001b[39;49m\u001b[38;5;124;43m'\u001b[39;49m\u001b[43m]\u001b[49m\n",
      "File \u001b[1;32m<frozen os>:679\u001b[0m, in \u001b[0;36m__getitem__\u001b[1;34m(self, key)\u001b[0m\n",
      "\u001b[1;31mKeyError\u001b[0m: 'URL1'"
     ]
    }
   ],
   "source": [
    "import os\n",
    "os.environ['URL1']"
   ]
  },
  {
   "cell_type": "markdown",
   "metadata": {},
   "source": [
    "**Analyze the Data!**"
   ]
  },
  {
   "cell_type": "markdown",
   "metadata": {},
   "source": [
    "Read the text in the README file.  What message is inside the file?"
   ]
  },
  {
   "cell_type": "code",
   "execution_count": null,
   "metadata": {},
   "outputs": [],
   "source": []
  },
  {
   "cell_type": "markdown",
   "metadata": {},
   "source": [
    "Write text to a file named \"\\<your_name\\>.txt\" (e.g. \"emma.txt\"), and put a hello message inside that file, and check that the file was created!"
   ]
  },
  {
   "cell_type": "code",
   "execution_count": null,
   "metadata": {},
   "outputs": [],
   "source": []
  },
  {
   "cell_type": "markdown",
   "metadata": {},
   "source": [
    "Create a folder named \"images\" and upload a picture of your favorite animal to the folder.  Check that it was uploaded properly."
   ]
  },
  {
   "cell_type": "code",
   "execution_count": null,
   "metadata": {},
   "outputs": [],
   "source": []
  },
  {
   "cell_type": "markdown",
   "metadata": {},
   "source": [
    "What did the other people in your group upload?  Take a look, and download their favorite animal images!"
   ]
  },
  {
   "cell_type": "code",
   "execution_count": null,
   "metadata": {},
   "outputs": [],
   "source": []
  },
  {
   "cell_type": "markdown",
   "metadata": {},
   "source": [
    "## Mounting Remote Filesystems as a Network Drive\n",
    "\n",
    "In Windows, Mac, and Linux, you can mount a remote filesystem so you can browse it in your file explorer.  Let's try it with our shared folder!  This doesn't require any code; when mapping the drive, use the same url, username, and password as we did in the previous exercise."
   ]
  },
  {
   "cell_type": "markdown",
   "metadata": {},
   "source": [
    "**Exercise**: Mount one of the WebDAV folders we connected to as a remote drive, using the \"Map Network Drive\" option in your file explorer / finder."
   ]
  },
  {
   "cell_type": "markdown",
   "metadata": {},
   "source": [
    "## (Extra) Other Remote Filesystems\n",
    "\n",
    "The `fsspec` library supports a wide variety of filesystems, including \"SSH\" connections (like those used to access linux servers) and \"SFTP\" connections (like the one provided by the university of Bonn for extra file storage).  No matter where the data is, if you have permission to access it, you can use it!\n",
    "\n",
    "  - Uni-Bonn Data Storage Services:\n",
    "    - https://www.hrz.uni-bonn.de/de/services/datenablage-fileservices\n",
    "    - https://www.hrz.uni-bonn.de/en/all-services/data-storage-fileservices/research-data-infrastructure-fdi\n",
    "  - Uni-Köln Data Storage Services: \n",
    "    - https://fdm.uni-koeln.de/serviceangebot/servicekatalog-1"
   ]
  }
 ],
 "metadata": {
  "kernelspec": {
   "display_name": "duckdb",
   "language": "python",
   "name": "python3"
  },
  "language_info": {
   "codemirror_mode": {
    "name": "ipython",
    "version": 3
   },
   "file_extension": ".py",
   "mimetype": "text/x-python",
   "name": "python",
   "nbconvert_exporter": "python",
   "pygments_lexer": "ipython3",
   "version": "3.11.7"
  }
 },
 "nbformat": 4,
 "nbformat_minor": 2
}
